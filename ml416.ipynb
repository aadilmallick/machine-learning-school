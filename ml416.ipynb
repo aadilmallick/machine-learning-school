{
 "cells": [
  {
   "cell_type": "markdown",
   "id": "64664c4e-e8dc-4817-9cd3-bf5b2eee4511",
   "metadata": {},
   "source": [
    "# Machine Learning intro"
   ]
  },
  {
   "cell_type": "code",
   "execution_count": null,
   "id": "17ed24ee-afef-4499-9325-c67c4c843647",
   "metadata": {},
   "outputs": [],
   "source": []
  }
 ],
 "metadata": {
  "kernelspec": {
   "display_name": "Python 3 (ipykernel)",
   "language": "python",
   "name": "python3"
  },
  "language_info": {
   "codemirror_mode": {
    "name": "ipython",
    "version": 3
   },
   "file_extension": ".py",
   "mimetype": "text/x-python",
   "name": "python",
   "nbconvert_exporter": "python",
   "pygments_lexer": "ipython3",
   "version": "3.11.6"
  }
 },
 "nbformat": 4,
 "nbformat_minor": 5
}
